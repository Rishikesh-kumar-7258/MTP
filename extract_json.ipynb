{
 "cells": [
  {
   "cell_type": "code",
   "execution_count": 1,
   "id": "2d3980bc",
   "metadata": {},
   "outputs": [],
   "source": [
    "import numpy\n",
    "import json"
   ]
  },
  {
   "cell_type": "code",
   "execution_count": 5,
   "id": "d8a4bdeb",
   "metadata": {},
   "outputs": [
    {
     "data": {
      "text/plain": [
       "(1228, 200)"
      ]
     },
     "execution_count": 5,
     "metadata": {},
     "output_type": "execute_result"
    }
   ],
   "source": [
    "data = json.load(open('filtered_sentences_200.json'))\n",
    "len(data['positives']), len(data['negatives'])"
   ]
  },
  {
   "cell_type": "code",
   "execution_count": 6,
   "id": "7fa64186",
   "metadata": {},
   "outputs": [
    {
     "data": {
      "text/plain": [
       "({'sentence': 'A total of 178 participants were randomized in the SAD/MAD cohorts of both studies (mean age: 36.7 years; 94.9% male).',\n",
       "  'entity': 'Age (years)'},\n",
       " 'Apolipoprotein-L1 (APOL1) G1 and G2 risk variants, found in people of recent west sub-Saharan African ancestry, dramatically increase the likelihood of kidney disease, yet the incomplete penetrance an diverse clinical manifestations underscore the need to understand the molecular and environmental factors that modulate APOL1-mediated toxicity.')"
      ]
     },
     "execution_count": 6,
     "metadata": {},
     "output_type": "execute_result"
    }
   ],
   "source": [
    "data['positives'][0], data['negatives'][0]"
   ]
  },
  {
   "cell_type": "code",
   "execution_count": 7,
   "id": "c5e30b48",
   "metadata": {},
   "outputs": [],
   "source": [
    "import re\n",
    "\n",
    "def extract_value_from_sentence(sample):\n",
    "    sentence = sample[\"sentence\"]\n",
    "    entity = sample[\"entity\"]\n",
    "\n",
    "    # Regex to catch numbers, percentages, decimals, ranges, etc.\n",
    "    num_pattern = r\"(\\d+\\.?\\d*\\s*(?:%|years|mg/dL|mL/min|mm|cm|kg|months|days)?)\"\n",
    "\n",
    "    matches = re.findall(num_pattern, sentence)\n",
    "\n",
    "    if matches:\n",
    "        # pick the first match (or refine if multiple values exist)\n",
    "        value = matches[0].strip()\n",
    "        return {\n",
    "            \"input\": sentence,\n",
    "            \"output\": f\"{entity} @REL@ {value}\"\n",
    "        }\n",
    "\n",
    "    # fallback\n",
    "    return {\n",
    "        \"input\": sentence,\n",
    "        \"output\": f\"{entity} @REL@ N/A\"\n",
    "    }"
   ]
  },
  {
   "cell_type": "code",
   "execution_count": 8,
   "id": "ad3bc6aa",
   "metadata": {},
   "outputs": [
    {
     "data": {
      "text/plain": [
       "{'input': 'A total of 178 participants were randomized in the SAD/MAD cohorts of both studies (mean age: 36.7 years; 94.9% male).',\n",
       " 'output': 'Age (years) @REL@ 178'}"
      ]
     },
     "execution_count": 8,
     "metadata": {},
     "output_type": "execute_result"
    }
   ],
   "source": [
    "positives = [extract_value_from_sentence(sample) for sample in data['positives']]\n",
    "positives[0]"
   ]
  },
  {
   "cell_type": "code",
   "execution_count": null,
   "id": "fad094b8",
   "metadata": {},
   "outputs": [],
   "source": []
  }
 ],
 "metadata": {
  "kernelspec": {
   "display_name": "venv",
   "language": "python",
   "name": "python3"
  },
  "language_info": {
   "codemirror_mode": {
    "name": "ipython",
    "version": 3
   },
   "file_extension": ".py",
   "mimetype": "text/x-python",
   "name": "python",
   "nbconvert_exporter": "python",
   "pygments_lexer": "ipython3",
   "version": "3.12.1"
  }
 },
 "nbformat": 4,
 "nbformat_minor": 5
}
